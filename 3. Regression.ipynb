{
 "cells": [
  {
   "cell_type": "code",
   "execution_count": 16,
   "metadata": {},
   "outputs": [],
   "source": [
    "import torch\n",
    "import torch.optim as optim"
   ]
  },
  {
   "cell_type": "markdown",
   "metadata": {},
   "source": [
    "## 선형회귀"
   ]
  },
  {
   "cell_type": "code",
   "execution_count": 7,
   "metadata": {},
   "outputs": [],
   "source": [
    "X_train = torch.FloatTensor([[1], [2], [3]])\n",
    "y_train = torch.FloatTensor([[2], [4], [6]])"
   ]
  },
  {
   "cell_type": "code",
   "execution_count": 10,
   "metadata": {},
   "outputs": [],
   "source": [
    "W = torch.zeros(1, requires_grad = True)\n",
    "b = torch.zeros(1, requires_grad = True)\n",
    "hype = X_train * W + b"
   ]
  },
  {
   "cell_type": "markdown",
   "metadata": {},
   "source": [
    "## 다중선형회귀"
   ]
  },
  {
   "cell_type": "code",
   "execution_count": 89,
   "metadata": {},
   "outputs": [],
   "source": [
    "X_train = torch.FloatTensor([[73, 80, 75],\n",
    "                             [93, 88, 93],\n",
    "                             [89, 91, 90],\n",
    "                             [96, 98, 100],\n",
    "                             [73, 66, 70]])\n",
    "y_train = torch.FloatTensor([[152], [185], [180], [196], [142]])"
   ]
  },
  {
   "cell_type": "code",
   "execution_count": 90,
   "metadata": {},
   "outputs": [],
   "source": [
    "W = torch.zeros((3, 1), requires_grad = True)\n",
    "b = torch.zeros(1, requires_grad = True)\n",
    "\n",
    "optimizer = optim.SGD([W, b], lr = 1e-5)\n",
    "n_epochs = 20"
   ]
  },
  {
   "cell_type": "code",
   "execution_count": 75,
   "metadata": {},
   "outputs": [
    {
     "name": "stdout",
     "output_type": "stream",
     "text": [
      "Epoch 0 / 20 hype : tensor([0., 0., 0., 0., 0.]), cost : 29661.801\n",
      "Epoch 2 / 20 hype : tensor([104.9128, 126.0990, 124.2466, 135.3015,  96.1821]), cost : 2915.713\n",
      "Epoch 4 / 20 hype : tensor([137.7968, 165.6247, 163.1911, 177.7112, 126.3307]), cost : 287.936\n",
      "Epoch 6 / 20 hype : tensor([148.1035, 178.0144, 175.3980, 191.0042, 135.7812]), cost : 29.758\n",
      "Epoch 8 / 20 hype : tensor([151.3336, 181.8983, 179.2240, 195.1707, 138.7440]), cost : 4.391\n",
      "Epoch 10 / 20 hype : tensor([152.3454, 183.1161, 180.4231, 196.4765, 139.6732]), cost : 1.898\n",
      "Epoch 12 / 20 hype : tensor([152.6620, 183.4982, 180.7988, 196.8857, 139.9651]), cost : 1.651\n",
      "Epoch 14 / 20 hype : tensor([152.7606, 183.6184, 180.9164, 197.0138, 140.0571]), cost : 1.626\n",
      "Epoch 16 / 20 hype : tensor([152.7909, 183.6565, 180.9530, 197.0538, 140.0865]), cost : 1.622\n",
      "Epoch 18 / 20 hype : tensor([152.7999, 183.6688, 180.9644, 197.0662, 140.0963]), cost : 1.620\n",
      "Epoch 20 / 20 hype : tensor([152.8020, 183.6731, 180.9677, 197.0699, 140.1000]), cost : 1.619\n"
     ]
    }
   ],
   "source": [
    "for epoch in range(n_epochs + 1):\n",
    "    hype = X_train.matmul(W) + b\n",
    "    \n",
    "    cost = torch.mean((hype - y_train) ** 2 )\n",
    "    \n",
    "    optimizer.zero_grad()\n",
    "    cost.backward()\n",
    "    optimizer.step()\n",
    "    if epoch%2==0:\n",
    "        print(f\"Epoch {epoch} / {n_epochs} hype : {hype.squeeze().detach()}, cost : {cost.item():.3f}\")"
   ]
  },
  {
   "cell_type": "markdown",
   "metadata": {},
   "source": [
    "## nn.Module"
   ]
  },
  {
   "cell_type": "code",
   "execution_count": 91,
   "metadata": {},
   "outputs": [],
   "source": [
    "import torch.nn as nn\n",
    "\n",
    "class MultivariateLinear(nn.Module):\n",
    "    def __init__(self):\n",
    "        super().__init__()\n",
    "        self.linear = nn.Linear(3, 1)\n",
    "    def forward(self, x):\n",
    "        return self.linear(x)"
   ]
  },
  {
   "cell_type": "code",
   "execution_count": 92,
   "metadata": {},
   "outputs": [],
   "source": [
    "model = MultivariateLinear()\n",
    "optimizer = optim.SGD(model.parameters(), lr = 1e-5)\n",
    "n_epochs = 20\n",
    "criterion = nn.MSELoss()"
   ]
  },
  {
   "cell_type": "code",
   "execution_count": 93,
   "metadata": {},
   "outputs": [
    {
     "name": "stdout",
     "output_type": "stream",
     "text": [
      "Epoch 0 / 20 hype : tensor([ -7.3463,  -9.9960,  -9.1731, -11.1174,  -6.9447]), cost : 32856.664\n",
      "Epoch 2 / 20 hype : tensor([103.0720, 122.7204, 121.5937, 131.2845,  94.2848]), cost : 3229.768\n",
      "Epoch 4 / 20 hype : tensor([137.6815, 164.3204, 162.5819, 175.9197, 126.0155]), cost : 318.955\n",
      "Epoch 6 / 20 hype : tensor([148.5291, 177.3603, 175.4293, 189.9104, 135.9620]), cost : 32.969\n",
      "Epoch 8 / 20 hype : tensor([151.9286, 181.4480, 179.4561, 194.2955, 139.0803]), cost : 4.869\n",
      "Epoch 10 / 20 hype : tensor([152.9935, 182.7298, 180.7181, 195.6700, 140.0584]), cost : 2.107\n",
      "Epoch 12 / 20 hype : tensor([153.3265, 183.1321, 181.1134, 196.1006, 140.3656]), cost : 1.834\n",
      "Epoch 14 / 20 hype : tensor([153.4303, 183.2586, 181.2371, 196.2354, 140.4624]), cost : 1.806\n",
      "Epoch 16 / 20 hype : tensor([153.4621, 183.2987, 181.2757, 196.2775, 140.4934]), cost : 1.801\n",
      "Epoch 18 / 20 hype : tensor([153.4714, 183.3118, 181.2876, 196.2906, 140.5037]), cost : 1.799\n",
      "Epoch 20 / 20 hype : tensor([153.4736, 183.3164, 181.2911, 196.2946, 140.5076]), cost : 1.797\n"
     ]
    }
   ],
   "source": [
    "for epoch in range(n_epochs + 1):\n",
    "    outputs = model(X_train)\n",
    "    loss = criterion(outputs, y_train)\n",
    "    \n",
    "    optimizer.zero_grad()\n",
    "    loss.backward()\n",
    "    optimizer.step()\n",
    "    \n",
    "    if epoch%2==0:\n",
    "        print(f\"Epoch {epoch} / {n_epochs} hype : {outputs.squeeze().detach()}, cost : {loss.item():.3f}\")"
   ]
  },
  {
   "cell_type": "markdown",
   "metadata": {},
   "source": [
    "## Logistic Regression"
   ]
  },
  {
   "cell_type": "code",
   "execution_count": 94,
   "metadata": {},
   "outputs": [],
   "source": [
    "import torch\n",
    "import torch.nn as nn\n",
    "import torch.optim as optim"
   ]
  },
  {
   "cell_type": "code",
   "execution_count": 155,
   "metadata": {},
   "outputs": [],
   "source": [
    "x_data = [[1,2], [2,3], [3,1], [4,3], [5,3], [6,2]]\n",
    "y_data = [[0],[0],[0],[1],[1],[1]]\n",
    "X_train = torch.FloatTensor(x_data)\n",
    "y_train = torch.FloatTensor(y_data)"
   ]
  },
  {
   "cell_type": "code",
   "execution_count": 137,
   "metadata": {},
   "outputs": [],
   "source": [
    "W = torch.zeros((2,1), requires_grad = True)\n",
    "b = torch.zeros(1, requires_grad = True)"
   ]
  },
  {
   "cell_type": "code",
   "execution_count": 138,
   "metadata": {},
   "outputs": [],
   "source": [
    "outputs = 1 / (1 + torch.exp(- (X_train.matmul(W) + b)))\n",
    "outputs = torch.sigmoid(X_train.matmul(W) + b)"
   ]
  },
  {
   "cell_type": "code",
   "execution_count": 140,
   "metadata": {},
   "outputs": [],
   "source": [
    "criterion = nn.BCELoss()\n",
    "optimizer = optim.SGD([W, b], lr = 1)"
   ]
  },
  {
   "cell_type": "code",
   "execution_count": 141,
   "metadata": {},
   "outputs": [
    {
     "name": "stdout",
     "output_type": "stream",
     "text": [
      "Epoch 100 / 1000, cost : 0.136\n",
      "Epoch 200 / 1000, cost : 0.081\n",
      "Epoch 300 / 1000, cost : 0.058\n",
      "Epoch 400 / 1000, cost : 0.045\n",
      "Epoch 500 / 1000, cost : 0.037\n",
      "Epoch 600 / 1000, cost : 0.032\n",
      "Epoch 700 / 1000, cost : 0.028\n",
      "Epoch 800 / 1000, cost : 0.024\n",
      "Epoch 900 / 1000, cost : 0.022\n",
      "Epoch 1000 / 1000, cost : 0.020\n"
     ]
    }
   ],
   "source": [
    "n_epochs = 1000\n",
    "for epoch in range(1, n_epochs + 1):\n",
    "    outputs = torch.sigmoid(X_train.matmul(W) + b)\n",
    "    loss = criterion(outputs, y_train)\n",
    "    \n",
    "    optimizer.zero_grad()\n",
    "    loss.backward()\n",
    "    optimizer.step()\n",
    "    if epoch%100==0:\n",
    "        print(f\"Epoch {epoch} / {n_epochs}, cost : {loss.item():.3f}\")        "
   ]
  },
  {
   "cell_type": "code",
   "execution_count": 146,
   "metadata": {},
   "outputs": [
    {
     "data": {
      "text/plain": [
       "tensor([[True],\n",
       "        [True],\n",
       "        [True],\n",
       "        [True],\n",
       "        [True],\n",
       "        [True]])"
      ]
     },
     "execution_count": 146,
     "metadata": {},
     "output_type": "execute_result"
    }
   ],
   "source": [
    "outputs = torch.sigmoid(X_train.matmul(W) + b)\n",
    "prediction = outputs >= torch.FloatTensor([0.5])\n",
    "correct = prediction.float() == y_train\n",
    "correct"
   ]
  },
  {
   "cell_type": "code",
   "execution_count": 158,
   "metadata": {},
   "outputs": [],
   "source": [
    "class BinaryClassifier(nn.Module):\n",
    "    def __init__(self):\n",
    "        super().__init__()\n",
    "        self.linear = nn.Linear(2, 1)\n",
    "        self.sigmoid = nn.Sigmoid()\n",
    "    def forward(self, x):\n",
    "        return self.sigmoid(self.linear(x))\n",
    "model = BinaryClassifier()"
   ]
  },
  {
   "cell_type": "code",
   "execution_count": 159,
   "metadata": {},
   "outputs": [
    {
     "data": {
      "text/plain": [
       "tensor([[1., 2.],\n",
       "        [2., 3.],\n",
       "        [3., 1.],\n",
       "        [4., 3.],\n",
       "        [5., 3.],\n",
       "        [6., 2.]])"
      ]
     },
     "execution_count": 159,
     "metadata": {},
     "output_type": "execute_result"
    }
   ],
   "source": [
    "X_train"
   ]
  },
  {
   "cell_type": "code",
   "execution_count": 161,
   "metadata": {},
   "outputs": [
    {
     "name": "stdout",
     "output_type": "stream",
     "text": [
      "Epoch 100 / 1000, cost : 0.083\n",
      "Epoch 200 / 1000, cost : 0.059\n",
      "Epoch 300 / 1000, cost : 0.046\n",
      "Epoch 400 / 1000, cost : 0.038\n",
      "Epoch 500 / 1000, cost : 0.032\n",
      "Epoch 600 / 1000, cost : 0.028\n",
      "Epoch 700 / 1000, cost : 0.025\n",
      "Epoch 800 / 1000, cost : 0.022\n",
      "Epoch 900 / 1000, cost : 0.020\n",
      "Epoch 1000 / 1000, cost : 0.018\n"
     ]
    }
   ],
   "source": [
    "optimizer = optim.SGD(model.parameters(), lr = 1)\n",
    "n_epochs = 1000\n",
    "for epoch in range(1, n_epochs + 1):\n",
    "    outputs = model(X_train)\n",
    "    loss = criterion(outputs, y_train)\n",
    "    \n",
    "    optimizer.zero_grad()\n",
    "    loss.backward()\n",
    "    optimizer.step()\n",
    "    if epoch%100==0:\n",
    "        print(f\"Epoch {epoch} / {n_epochs}, cost : {loss.item():.3f}\")        "
   ]
  }
 ],
 "metadata": {
  "kernelspec": {
   "display_name": "Python 3",
   "language": "python",
   "name": "python3"
  },
  "language_info": {
   "codemirror_mode": {
    "name": "ipython",
    "version": 3
   },
   "file_extension": ".py",
   "mimetype": "text/x-python",
   "name": "python",
   "nbconvert_exporter": "python",
   "pygments_lexer": "ipython3",
   "version": "3.7.6"
  }
 },
 "nbformat": 4,
 "nbformat_minor": 4
}
